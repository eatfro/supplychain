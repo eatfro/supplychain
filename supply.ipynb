{
 "cells": [
  {
   "cell_type": "code",
   "execution_count": 2,
   "id": "b3b8d7ff",
   "metadata": {},
   "outputs": [],
   "source": [
    "import pandas as pd \n",
    "import numpy as np \n",
    "import seaborn  as sns\n",
    "\n",
    "import matplotlib.pyplot as plt\n"
   ]
  },
  {
   "cell_type": "code",
   "execution_count": 3,
   "id": "dfaa7adc",
   "metadata": {},
   "outputs": [],
   "source": [
    "retail_clean = pd.read_csv('retail_clean.csv')"
   ]
  },
  {
   "cell_type": "code",
   "execution_count": 4,
   "id": "913362c5",
   "metadata": {},
   "outputs": [
    {
     "name": "stdout",
     "output_type": "stream",
     "text": [
      "<class 'pandas.core.frame.DataFrame'>\n",
      "RangeIndex: 779495 entries, 0 to 779494\n",
      "Data columns (total 10 columns):\n",
      " #   Column       Non-Null Count   Dtype  \n",
      "---  ------       --------------   -----  \n",
      " 0   Unnamed: 0   779495 non-null  int64  \n",
      " 1   Invoice      779495 non-null  int64  \n",
      " 2   StockCode    779495 non-null  object \n",
      " 3   Description  779495 non-null  object \n",
      " 4   Quantity     779495 non-null  int64  \n",
      " 5   InvoiceDate  779495 non-null  object \n",
      " 6   Price        779495 non-null  float64\n",
      " 7   Customer ID  779495 non-null  float64\n",
      " 8   Country      779495 non-null  object \n",
      " 9   Revenue      779495 non-null  float64\n",
      "dtypes: float64(3), int64(3), object(4)\n",
      "memory usage: 59.5+ MB\n"
     ]
    }
   ],
   "source": [
    "retail_clean.info()\n",
    "retail_clean.InvoiceDate\n",
    "retail_clean['InvoiceDate']= pd.to_datetime(retail_clean['InvoiceDate'])\n",
    "retail_clean['date']= retail_clean['InvoiceDate'].dt.strftime(\"%Y-%m-%d\")\n",
    "retail_clean['date']=pd.to_datetime(retail_clean['date'])\n",
    "\n",
    "\n",
    "retail_clean['week']= retail_clean.date.dt.isocalendar"
   ]
  },
  {
   "cell_type": "code",
   "execution_count": 7,
   "id": "aae42cbd",
   "metadata": {},
   "outputs": [
    {
     "data": {
      "application/vnd.microsoft.datawrangler.viewer.v0+json": {
       "columns": [
        {
         "name": "index",
         "rawType": "object",
         "type": "string"
        },
        {
         "name": "week",
         "rawType": "object",
         "type": "string"
        }
       ],
       "ref": "f3979eb0-c344-477b-a0d3-5d1905bdc5a8",
       "rows": [
        [
         "count",
         "779495"
        ],
        [
         "unique",
         "1"
        ],
        [
         "top",
         "<bound method DatetimeProperties.isocalendar of <pandas.core.indexes.accessors.DatetimeProperties object at 0x7f87f096eee0>>"
        ],
        [
         "freq",
         "779495"
        ]
       ],
       "shape": {
        "columns": 1,
        "rows": 4
       }
      },
      "text/plain": [
       "count                                                779495\n",
       "unique                                                    1\n",
       "top       <bound method DatetimeProperties.isocalendar o...\n",
       "freq                                                 779495\n",
       "Name: week, dtype: object"
      ]
     },
     "execution_count": 7,
     "metadata": {},
     "output_type": "execute_result"
    }
   ],
   "source": [
    "retail_clean.week.describe()"
   ]
  },
  {
   "cell_type": "code",
   "execution_count": null,
   "id": "4fcd07c8",
   "metadata": {},
   "outputs": [
    {
     "data": {
      "application/vnd.microsoft.datawrangler.viewer.v0+json": {
       "columns": [
        {
         "name": "index",
         "rawType": "object",
         "type": "string"
        },
        {
         "name": "Unnamed: 0",
         "rawType": "float64",
         "type": "float"
        },
        {
         "name": "Invoice",
         "rawType": "float64",
         "type": "float"
        },
        {
         "name": "Quantity",
         "rawType": "float64",
         "type": "float"
        },
        {
         "name": "Price",
         "rawType": "float64",
         "type": "float"
        },
        {
         "name": "Customer ID",
         "rawType": "float64",
         "type": "float"
        },
        {
         "name": "Revenue",
         "rawType": "float64",
         "type": "float"
        }
       ],
       "ref": "f2873cf8-b753-4aa1-b55c-e912603e6030",
       "rows": [
        [
         "count",
         "779495.0",
         "779495.0",
         "779495.0",
         "779495.0",
         "779495.0",
         "779495.0"
        ],
        [
         "mean",
         "531566.039789864",
         "537427.0053906696",
         "13.507084715104009",
         "3.2181989595820495",
         "15320.262917658227",
         "22.28982131764375"
        ],
        [
         "std",
         "311043.3300390421",
         "26901.961110083725",
         "146.540284136621",
         "29.674822852058988",
         "1695.7229879737458",
         "227.41696167231856"
        ],
        [
         "min",
         "0.0",
         "489434.0",
         "1.0",
         "0.0",
         "12346.0",
         "0.0"
        ],
        [
         "25%",
         "259840.5",
         "514483.0",
         "2.0",
         "1.25",
         "13971.0",
         "4.95"
        ],
        [
         "50%",
         "507168.0",
         "536754.0",
         "6.0",
         "1.95",
         "15246.0",
         "12.48"
        ],
        [
         "75%",
         "811489.5",
         "562002.0",
         "12.0",
         "3.75",
         "16794.0",
         "19.8"
        ],
        [
         "max",
         "1067370.0",
         "581587.0",
         "80995.0",
         "10953.5",
         "18287.0",
         "168469.6"
        ]
       ],
       "shape": {
        "columns": 6,
        "rows": 8
       }
      },
      "text/html": [
       "<div>\n",
       "<style scoped>\n",
       "    .dataframe tbody tr th:only-of-type {\n",
       "        vertical-align: middle;\n",
       "    }\n",
       "\n",
       "    .dataframe tbody tr th {\n",
       "        vertical-align: top;\n",
       "    }\n",
       "\n",
       "    .dataframe thead th {\n",
       "        text-align: right;\n",
       "    }\n",
       "</style>\n",
       "<table border=\"1\" class=\"dataframe\">\n",
       "  <thead>\n",
       "    <tr style=\"text-align: right;\">\n",
       "      <th></th>\n",
       "      <th>Unnamed: 0</th>\n",
       "      <th>Invoice</th>\n",
       "      <th>Quantity</th>\n",
       "      <th>Price</th>\n",
       "      <th>Customer ID</th>\n",
       "      <th>Revenue</th>\n",
       "    </tr>\n",
       "  </thead>\n",
       "  <tbody>\n",
       "    <tr>\n",
       "      <th>count</th>\n",
       "      <td>7.794950e+05</td>\n",
       "      <td>779495.000000</td>\n",
       "      <td>779495.000000</td>\n",
       "      <td>779495.000000</td>\n",
       "      <td>779495.000000</td>\n",
       "      <td>779495.000000</td>\n",
       "    </tr>\n",
       "    <tr>\n",
       "      <th>mean</th>\n",
       "      <td>5.315660e+05</td>\n",
       "      <td>537427.005391</td>\n",
       "      <td>13.507085</td>\n",
       "      <td>3.218199</td>\n",
       "      <td>15320.262918</td>\n",
       "      <td>22.289821</td>\n",
       "    </tr>\n",
       "    <tr>\n",
       "      <th>std</th>\n",
       "      <td>3.110433e+05</td>\n",
       "      <td>26901.961110</td>\n",
       "      <td>146.540284</td>\n",
       "      <td>29.674823</td>\n",
       "      <td>1695.722988</td>\n",
       "      <td>227.416962</td>\n",
       "    </tr>\n",
       "    <tr>\n",
       "      <th>min</th>\n",
       "      <td>0.000000e+00</td>\n",
       "      <td>489434.000000</td>\n",
       "      <td>1.000000</td>\n",
       "      <td>0.000000</td>\n",
       "      <td>12346.000000</td>\n",
       "      <td>0.000000</td>\n",
       "    </tr>\n",
       "    <tr>\n",
       "      <th>25%</th>\n",
       "      <td>2.598405e+05</td>\n",
       "      <td>514483.000000</td>\n",
       "      <td>2.000000</td>\n",
       "      <td>1.250000</td>\n",
       "      <td>13971.000000</td>\n",
       "      <td>4.950000</td>\n",
       "    </tr>\n",
       "    <tr>\n",
       "      <th>50%</th>\n",
       "      <td>5.071680e+05</td>\n",
       "      <td>536754.000000</td>\n",
       "      <td>6.000000</td>\n",
       "      <td>1.950000</td>\n",
       "      <td>15246.000000</td>\n",
       "      <td>12.480000</td>\n",
       "    </tr>\n",
       "    <tr>\n",
       "      <th>75%</th>\n",
       "      <td>8.114895e+05</td>\n",
       "      <td>562002.000000</td>\n",
       "      <td>12.000000</td>\n",
       "      <td>3.750000</td>\n",
       "      <td>16794.000000</td>\n",
       "      <td>19.800000</td>\n",
       "    </tr>\n",
       "    <tr>\n",
       "      <th>max</th>\n",
       "      <td>1.067370e+06</td>\n",
       "      <td>581587.000000</td>\n",
       "      <td>80995.000000</td>\n",
       "      <td>10953.500000</td>\n",
       "      <td>18287.000000</td>\n",
       "      <td>168469.600000</td>\n",
       "    </tr>\n",
       "  </tbody>\n",
       "</table>\n",
       "</div>"
      ],
      "text/plain": [
       "         Unnamed: 0        Invoice       Quantity          Price  \\\n",
       "count  7.794950e+05  779495.000000  779495.000000  779495.000000   \n",
       "mean   5.315660e+05  537427.005391      13.507085       3.218199   \n",
       "std    3.110433e+05   26901.961110     146.540284      29.674823   \n",
       "min    0.000000e+00  489434.000000       1.000000       0.000000   \n",
       "25%    2.598405e+05  514483.000000       2.000000       1.250000   \n",
       "50%    5.071680e+05  536754.000000       6.000000       1.950000   \n",
       "75%    8.114895e+05  562002.000000      12.000000       3.750000   \n",
       "max    1.067370e+06  581587.000000   80995.000000   10953.500000   \n",
       "\n",
       "         Customer ID        Revenue  \n",
       "count  779495.000000  779495.000000  \n",
       "mean    15320.262918      22.289821  \n",
       "std      1695.722988     227.416962  \n",
       "min     12346.000000       0.000000  \n",
       "25%     13971.000000       4.950000  \n",
       "50%     15246.000000      12.480000  \n",
       "75%     16794.000000      19.800000  \n",
       "max     18287.000000  168469.600000  "
      ]
     },
     "execution_count": 6,
     "metadata": {},
     "output_type": "execute_result"
    }
   ],
   "source": []
  }
 ],
 "metadata": {
  "kernelspec": {
   "display_name": "base",
   "language": "python",
   "name": "python3"
  },
  "language_info": {
   "codemirror_mode": {
    "name": "ipython",
    "version": 3
   },
   "file_extension": ".py",
   "mimetype": "text/x-python",
   "name": "python",
   "nbconvert_exporter": "python",
   "pygments_lexer": "ipython3",
   "version": "3.9.13"
  }
 },
 "nbformat": 4,
 "nbformat_minor": 5
}
